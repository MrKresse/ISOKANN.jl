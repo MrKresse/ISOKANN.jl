{
 "cells": [
  {
   "cell_type": "code",
   "execution_count": null,
   "metadata": {},
   "outputs": [],
   "source": [
    "using Pkg, Revise\n",
    "Pkg.activate(\"..\")\n",
    "using ISOKANN, Plots\n",
    "Plots.default(fmt=:png)"
   ]
  },
  {
   "cell_type": "code",
   "execution_count": null,
   "metadata": {},
   "outputs": [],
   "source": [
    "# we start by loading the .pdb file into a ::Molly.System\n",
    "sys = PDB_ACEMD()  # Alanine-Dipeptide helper function taking care of the forcefields, boundary ..."
   ]
  },
  {
   "cell_type": "code",
   "execution_count": null,
   "metadata": {},
   "outputs": [],
   "source": [
    "# and plug it into a ::MollyLangevin which specifies a simulation (integrator, timesteps, length)\n",
    "sim = MollyLangevin(;sys)"
   ]
  },
  {
   "cell_type": "code",
   "execution_count": null,
   "metadata": {},
   "outputs": [],
   "source": [
    "# solving the simulation returns a matrix with the atoms positions in each column\n",
    "traj = solve(sim);"
   ]
  },
  {
   "cell_type": "code",
   "execution_count": null,
   "metadata": {},
   "outputs": [],
   "source": [
    "# the dihedral angles depicted in the ramachandran plot offer a good visualization of the state of the molecule\n",
    "scatter_ramachandran(traj, fmt=:png)"
   ]
  },
  {
   "cell_type": "code",
   "execution_count": null,
   "metadata": {},
   "outputs": [],
   "source": [
    "# create the actual ISOKANN simulation\n",
    "iso = IsoRun(;sim, loggers=[])"
   ]
  },
  {
   "cell_type": "code",
   "execution_count": null,
   "metadata": {},
   "outputs": [],
   "source": [
    "# training runs for about 1.5 minutes\n",
    "@time run!(iso, showprogress = false)"
   ]
  },
  {
   "cell_type": "code",
   "execution_count": null,
   "metadata": {},
   "outputs": [],
   "source": [
    "plot_learning(iso)"
   ]
  },
  {
   "cell_type": "code",
   "execution_count": null,
   "metadata": {},
   "outputs": [],
   "source": [
    "x0 = ISOKANN.getcoords(sim)\n",
    "chi = iso.model\n",
    "path = @time reactionpath(sim, x0, chi, dt=0.0001)\n",
    "scatter_ramachandran(path)"
   ]
  },
  {
   "cell_type": "code",
   "execution_count": null,
   "metadata": {},
   "outputs": [],
   "source": [
    "ISOKANN.savecoords(sys, path, \"reactionpath.pdb\")"
   ]
  },
  {
   "cell_type": "code",
   "execution_count": null,
   "metadata": {},
   "outputs": [],
   "source": []
  }
 ],
 "metadata": {
  "kernelspec": {
   "display_name": "Julia 1.9.0",
   "language": "julia",
   "name": "julia-1.9"
  },
  "language_info": {
   "file_extension": ".jl",
   "mimetype": "application/julia",
   "name": "julia",
   "version": "1.9.0"
  },
  "orig_nbformat": 4
 },
 "nbformat": 4,
 "nbformat_minor": 2
}
